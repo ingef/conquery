{
 "cells": [
  {
   "cell_type": "markdown",
   "id": "90bb6503",
   "metadata": {},
   "source": [
    "# Prepare Age and Gender Data from the MIMIC-III Demo Dataset for Conquery\n",
    "\n",
    "This tutorial shows how data and meta data tables from the [MIMIC-III Demo Dataset](https://physionet.org/content/mimiciii-demo/1.4/) can be used to prepare data structures\n",
    "needed for conquery.\n",
    "\n",
    "In detail we will generate meta JSONs describing a table schema (Table-JSON), an import operation (Import-JSON, is much like the corresponding Table-JSON used for the preprocessing) and concepts (Concept-JSON, which offers the query functionality) for the table [PATIENTS.csv](https://physionet.org/files/mimiciii-demo/1.4/PATIENTS.csv).\n",
    "This table contains informations about age, gender. We will use these to create two corresponding concepts."
   ]
  },
  {
   "cell_type": "code",
   "execution_count": null,
   "id": "f8830851",
   "metadata": {},
   "outputs": [],
   "source": [
    "## The imports for this notebook\n",
    "import pandas as pd\n",
    "import io\n",
    "import requests as r\n",
    "import os\n",
    "import json\n",
    "from pathlib import Path\n",
    "from zipfile import ZipFile\n",
    "from io import BytesIO\n",
    "import lib.conquery_util as cq\n",
    "import re\n",
    "\n",
    "# Define working directory\n",
    "wd = Path(\".\")"
   ]
  },
  {
   "cell_type": "markdown",
   "id": "56e3caf1",
   "metadata": {},
   "source": [
    "## Meta Data Creation\n",
    "We will start with the creation of the meta data. For Table-JSON and Import-JSON we need the header of the data table (PATIENTS.csv), we want to use later in conquery.\n",
    "This process is rather generic, as it is usually just an annotation of the columns with type information.\n",
    "\n",
    "For the Concept-JSONs, we will create two objects that will reference the columns from the Table-JSON.\n",
    "\n",
    "### Download Data Table"
   ]
  },
  {
   "cell_type": "code",
   "execution_count": null,
   "id": "0eb635a7",
   "metadata": {},
   "outputs": [],
   "source": [
    "data_url = \"https://physionet.org/files/mimiciii-demo/1.4/PATIENTS.csv?download\"\n",
    "s=r.get(data_url).content\n",
    "data_df = pd.read_csv(io.StringIO(s.decode('utf-8')), index_col=\"row_id\", dtype={\"subject_id\": str})"
   ]
  },
  {
   "cell_type": "markdown",
   "id": "67293ed4",
   "metadata": {},
   "source": [
    "### Clean Data\n",
    "For now, Conquery can only work with dates, not times. Because of that, we will clean all columns, that we will later reference, from a timestamp. We will use the two columns `dob` (date of birth) and `dod` (date of death)."
   ]
  },
  {
   "cell_type": "code",
   "execution_count": null,
   "id": "df5b80b2",
   "metadata": {},
   "outputs": [],
   "source": [
    "datetime_matcher = re.compile(r\"^(?P<date>\\d{4}-\\d{2}-\\d{2})\\s*(?P<time>\\d{2}:\\d{2}:\\d{2})$\")\n",
    "\n",
    "# Clean dob and convert to datetime type\n",
    "data_df['dob'] = pd.to_datetime(data_df['dob'].str.replace(datetime_matcher, lambda match: match.group('date')))\n",
    "# Clean dod and convert to datetime type\n",
    "data_df['dod'] = pd.to_datetime(data_df['dod'].str.replace(datetime_matcher, lambda match: match.group('date')))\n",
    "\n",
    "# Write out the csv because it is needed for the preprocessing\n",
    "data_file = wd / \"data\" / \"csv\" / cq.get_csv_name(data_url)\n",
    "data_file.parent.mkdir(parents=True, exist_ok=True)\n",
    "\n",
    "data_df.to_csv(data_file)"
   ]
  },
  {
   "cell_type": "markdown",
   "id": "9ff1e61c",
   "metadata": {},
   "source": [
    "### Generate Table-JSON and Validate"
   ]
  },
  {
   "cell_type": "code",
   "execution_count": null,
   "id": "071d4243",
   "metadata": {},
   "outputs": [],
   "source": [
    "# Extract the table name that we will use through out this notebook\n",
    "table_name = data_file.name.split(\".\")[0]\n",
    "\n",
    "# We create an extra column for the lifetime in the table which isn't actually in the data \n",
    "extra_columns = [cq.DateRangeColumn(name=\"lifetime\", start_column=\"dob\", end_column=\"dod\")]\n",
    "\n",
    "# Generate the Table-JSON\n",
    "table = cq.generate_table(table_name, data_df, \"subject_id\", extra=extra_columns)\n",
    "\n",
    "# Load the validation schema for Table-JSON (it is under ./json_schema/table.json) and validate the generated object\n",
    "cq.get_validator(wd/\"json_schema\"/\"table.json\").validate(table)\n",
    "\n",
    "# Prepare the folder for the Table-JSONs\n",
    "table_json_file = wd / \"data\" / \"tables\" / f\"{table_name}.table.json\"\n",
    "table_json_file.parent.mkdir(parents=True, exist_ok=True)\n",
    "\n",
    "# Write the Table-JSON \n",
    "with open(table_json_file, \"w\") as f:\n",
    "    json.dump(table, f, indent=\"\\t\")"
   ]
  },
  {
   "cell_type": "markdown",
   "id": "3afc10f7",
   "metadata": {},
   "source": [
    "### Generate Import-JSON and Validate"
   ]
  },
  {
   "cell_type": "code",
   "execution_count": null,
   "id": "67f12ee3",
   "metadata": {},
   "outputs": [],
   "source": [
    "table_name = data_file.name.split(\".\")[0]\n",
    "\n",
    "# Here we also pass the extra columns as the import file defines then a special operation\n",
    "# that creates a virual column \"lifetime\" that references \"dob\" and \"dod\".\n",
    "import_ = cq.generate_import(data_df, \"subject_id\", data_file,extra=extra_columns)\n",
    "\n",
    "cq.get_validator(wd/\"json_schema\"/\"import.json\").validate(import_)\n",
    "\n",
    "import_json_file = wd / \"data\" / \"imports\" / f\"{table_name}.import.json\"\n",
    "import_json_file.parent.mkdir(parents=True, exist_ok=True)\n",
    "\n",
    "with open(import_json_file, \"w\") as f:\n",
    "    json.dump(import_, f, indent=\"\\t\")"
   ]
  },
  {
   "cell_type": "markdown",
   "id": "80f2ed78",
   "metadata": {},
   "source": [
    "### Generate Concept-JSON\n",
    "\n",
    "In this section we generate an age and a gender concept."
   ]
  },
  {
   "cell_type": "markdown",
   "id": "cf6bf804",
   "metadata": {},
   "source": [
    "#### Age Concept\n",
    "The age concept allows to build a cohort based on an age restriction (see `concept->connectors[0]->filters[0]`) and to output the birth date or by default the age of a patient based on today or the upper bound of a date restriction."
   ]
  },
  {
   "cell_type": "code",
   "execution_count": null,
   "id": "73a162fb",
   "metadata": {},
   "outputs": [],
   "source": [
    "concept = {\n",
    "    \"connectors\": [\n",
    "        {\n",
    "            \"filters\": [\n",
    "                {\n",
    "                    \"column\": f\"{table_name}.dob\",\n",
    "                    \"description\": \"Allowed ages within the given date restriction\",\n",
    "                    \"label\": \"Age Restriction\",\n",
    "                    \"name\": \"age_restriction\",\n",
    "                    \"timeUnit\": \"YEARS\",\n",
    "                    \"type\": \"DATE_DISTANCE\"\n",
    "                }\n",
    "            ],\n",
    "            \"label\": \"Age\",\n",
    "            \"name\": \"age\",\n",
    "            \"selects\": [\n",
    "                {\n",
    "                    \"column\": f\"{table_name}.dob\",\n",
    "                    \"default\": True,\n",
    "                    \"description\": \"Age at upper bound of date restriction\",\n",
    "                    \"label\": \"Age\",\n",
    "                    \"name\": \"age_select\",\n",
    "                    \"timeUnit\": \"YEARS\",\n",
    "                    \"type\": \"DATE_DISTANCE\"\n",
    "                },\n",
    "                {\n",
    "                    \"column\": f\"{table_name}.dob\",\n",
    "                    \"label\": \"Date of Birth\",\n",
    "                    \"name\": \"date_of_birth\",\n",
    "                    \"type\": \"LAST\"\n",
    "                }\n",
    "            ],\n",
    "            \"validityDates\": [\n",
    "                {\n",
    "                    \"column\": f\"{table_name}.lifetime\",\n",
    "                    \"label\": \"Lifetime\",\n",
    "                    \"name\": \"lifetime\"\n",
    "                },\n",
    "            ],\n",
    "            \"table\": f\"{table_name}\",\n",
    "        }\n",
    "    ],\n",
    "    \"label\": \"Age\",\n",
    "    \"name\": \"age\",\n",
    "    \"type\": \"TREE\"\n",
    "}"
   ]
  },
  {
   "cell_type": "markdown",
   "id": "3bca3fb2",
   "metadata": {},
   "source": [
    "Validate and write the concept."
   ]
  },
  {
   "cell_type": "code",
   "execution_count": null,
   "id": "e498893f",
   "metadata": {},
   "outputs": [],
   "source": [
    "cq.get_validator(wd / \"json_schema\" / \"concept.json\").validate(concept)\n",
    "\n",
    "concept_json_file = wd / \"data\" / \"concepts\" / f\"{concept['name']}.concept.json\"\n",
    "concept_json_file.parent.mkdir(parents=True, exist_ok=True)\n",
    "\n",
    "with open(concept_json_file, \"w\") as f:\n",
    "    json.dump(concept, f, indent=\"\\t\")"
   ]
  },
  {
   "cell_type": "markdown",
   "id": "9744759e",
   "metadata": {},
   "source": [
    "#### Gender Concept\n",
    "The age concept allows the cohort to be filtered by gender. Therefore, a filter is added to the concept."
   ]
  },
  {
   "cell_type": "code",
   "execution_count": null,
   "id": "476a0e2e",
   "metadata": {},
   "outputs": [],
   "source": [
    "concept = {\n",
    "    \"connectors\": [\n",
    "        {\n",
    "            \"column\": f\"{table_name}.gender\",\n",
    "            \"filters\": [\n",
    "                {\n",
    "                    \"column\": f\"{table_name}.gender\",\n",
    "                    \"label\": \"Gender\",\n",
    "                    \"labels\": {\n",
    "                        \"F\": \"female\",\n",
    "                        \"M\": \"male\"\n",
    "                    },\n",
    "                    \"name\": \"gender\",\n",
    "                    \"type\": \"BIG_MULTI_SELECT\"\n",
    "                }\n",
    "            ],\n",
    "            \"label\": \"Gender\",\n",
    "            \"name\": \"gender\",\n",
    "            \"selects\": [\n",
    "                {\n",
    "                    \"column\": f\"{table_name}.gender\",\n",
    "                    \"description\": \"The recent gender as a code\",\n",
    "                    \"label\": \"Gender Code\",\n",
    "                    \"name\": \"gender_code\",\n",
    "                    \"type\": \"LAST\"\n",
    "                },\n",
    "            ],\n",
    "            \"validityDates\": [\n",
    "                {\n",
    "                    \"column\": f\"{table_name}.lifetime\",\n",
    "                    \"label\": \"Lifetime\",\n",
    "                    \"name\": \"lifetime\"\n",
    "                }\n",
    "            ]\n",
    "        }\n",
    "    ],\n",
    "    \"label\": \"Gender\",\n",
    "    \"name\": \"gender\",\n",
    "    \"type\": \"TREE\"\n",
    "}"
   ]
  },
  {
   "cell_type": "markdown",
   "id": "3bfa4539",
   "metadata": {},
   "source": [
    "Validate and write the concept."
   ]
  },
  {
   "cell_type": "code",
   "execution_count": null,
   "id": "ea43dfe1",
   "metadata": {},
   "outputs": [],
   "source": [
    "cq.get_validator(wd / \"json_schema\" / \"concept.json\").validate(concept)\n",
    "\n",
    "concept_json_file = wd / \"data\" / \"concepts\" / f\"{concept['name']}.concept.json\"\n",
    "concept_json_file.parent.mkdir(parents=True, exist_ok=True)\n",
    "\n",
    "with open(concept_json_file, \"w\") as f:\n",
    "    json.dump(concept, f, indent=\"\\t\")"
   ]
  },
  {
   "cell_type": "markdown",
   "id": "8baf4b40",
   "metadata": {},
   "source": [
    "## Preprocessing and Upload\n",
    "\n",
    "The next tutorial is to [Preprocess and Upload](./preprocess_and_upload.ipynb) all data and meta data produced from this notebook.\n"
   ]
  }
 ],
 "metadata": {
  "kernelspec": {
   "display_name": "Python 3 (ipykernel)",
   "language": "python",
   "name": "python3"
  },
  "language_info": {
   "codemirror_mode": {
    "name": "ipython",
    "version": 3
   },
   "file_extension": ".py",
   "mimetype": "text/x-python",
   "name": "python",
   "nbconvert_exporter": "python",
   "pygments_lexer": "ipython3",
   "version": "3.8.0"
  },
  "vscode": {
   "interpreter": {
    "hash": "570feb405e2e27c949193ac68f46852414290d515b0ba6e5d90d076ed2284471"
   }
  }
 },
 "nbformat": 4,
 "nbformat_minor": 5
}
