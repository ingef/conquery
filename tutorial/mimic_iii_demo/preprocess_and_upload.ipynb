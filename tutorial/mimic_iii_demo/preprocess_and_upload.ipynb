{
 "cells": [
  {
   "cell_type": "markdown",
   "id": "90bb6503",
   "metadata": {},
   "source": [
    "# Preprocess and Upload Data for Conquery\n",
    "\n",
    "This tutorial shows how we can preprocess CSV files that we downloaded previously in the tutorials [Age and Gender](./age_gender.ipynb) or [ICD9](./icd9.ipynb) to the CQPP format (**c**on**q**uery **p**re**p**rocessed). These preprocessed files and the Table-JSONs and Concept-JSONs are finally uploaded to the backend using the REST-API.\n"
   ]
  },
  {
   "cell_type": "code",
   "execution_count": null,
   "id": "f8830851",
   "metadata": {},
   "outputs": [],
   "source": [
    "## The imports for this notebook\n",
    "import io\n",
    "import requests as r\n",
    "import os\n",
    "import json\n",
    "from pathlib import Path\n",
    "\n",
    "# Define working directory\n",
    "wd = Path(\".\")"
   ]
  },
  {
   "cell_type": "markdown",
   "id": "8baf4b40",
   "metadata": {},
   "source": [
    "## Preprocessing\n",
    "\n",
    "This step assumes that:\n",
    "- the backend has already been build/compiled (using the script `conquery/scripts/build_backend_no_version.sh`) and the JAR file is on path following the `-jar` option\n",
    "- the Import-JSONS are in the folder specified by the `--desc` option\n",
    "- the CSV files are in the folder that is specified with in the Import-JSONS->>`sourceFile` (the `--in` option specifies the absolute path for these relative paths)\n",
    "\n",
    "The command below converts the CSVs to CQPP files. The `--out` option specifies the folder where the files are written to."
   ]
  },
  {
   "cell_type": "code",
   "execution_count": null,
   "id": "75c16b2d",
   "metadata": {},
   "outputs": [],
   "source": [
    "(wd / \"data\" / \"cqpp\").mkdir(exist_ok=True, parents=True)\n",
    "!java -jar ../../executable/target/executable-0.0.0-SNAPSHOT.jar preprocess --desc ./data/imports --in . --out ./data/cqpp"
   ]
  },
  {
   "cell_type": "markdown",
   "id": "483b6ec9",
   "metadata": {},
   "source": [
    "## Import/Upload\n",
    "\n",
    "This step assumes that the backend is running and the admin endpoint is reachable under the specified url (e.g. using the script `conquery/scripts/run_e2e_backend.sh`).\n",
    "\n",
    "### Meta Data Import"
   ]
  },
  {
   "cell_type": "code",
   "execution_count": null,
   "id": "77f713c8",
   "metadata": {},
   "outputs": [],
   "source": [
    "import time\n",
    "\n",
    "def process_respose(res):\n",
    "    if res.ok:\n",
    "            return 'done'\n",
    "    else:\n",
    "        if res.status_code == 409:\n",
    "            return 'already uploaded.'\n",
    "        elif res.status_code == 401:\n",
    "            return 'authentication failed'\n",
    "        elif res.status_code == 401:\n",
    "            return 'forbidden'\n",
    "        else:\n",
    "            return f'unknown error:\\n{res.status_code}\\n{res.text}'\n",
    "\n",
    "# Create Dataset\n",
    "datasetId = \"mimic-iii-demo\"\n",
    "print(f'Uploading {datasetId} ... ', end='')\n",
    "res = r.post(\"http://localhost:8081/admin/datasets\", json={\"name\":datasetId, \"label\": \"MIMIC-III Demo\"}, headers={\"content-type\":\"application/json\"})\n",
    "print(process_respose(res))\n",
    "print('---')\n",
    "\n",
    "time.sleep(2)\n",
    "\n",
    "# Upload Table-JSONs\n",
    "for filename in (wd / \"data\" / \"tables\").glob(\"*.table.json\"):\n",
    "    print(f'Uploading {filename} ... ', end='')\n",
    "    with open(filename, 'rb') as file:\n",
    "        table = json.load(file)\n",
    "        res = r.post(f\"http://localhost:8081/admin/datasets/{datasetId}/tables\", json=table, headers={\"content-type\":\"application/json\"})\n",
    "        print(process_respose(res))\n",
    "print('---')\n",
    "\n",
    "time.sleep(2)\n",
    "\n",
    "# Upload Concept-JSONs\n",
    "for filename in (wd / \"data\" / \"concepts\").glob(\"*.concept.json\"):\n",
    "    print(f'Uploading {filename} ... ', end='')\n",
    "    with open(filename, 'rb') as file:\n",
    "        concept = json.load(file)\n",
    "        res = r.post(f\"http://localhost:8081/admin/datasets/{datasetId}/concepts\", json=concept, headers={\"content-type\":\"application/json\"})\n",
    "        print(process_respose(res))"
   ]
  },
  {
   "cell_type": "markdown",
   "id": "d16f8121",
   "metadata": {},
   "source": [
    "### Data Import"
   ]
  },
  {
   "cell_type": "code",
   "execution_count": null,
   "id": "ee580eb9",
   "metadata": {},
   "outputs": [],
   "source": [
    "\n",
    "for filename in (wd / \"data\" / \"cqpp\").glob(\"*.cqpp\"):\n",
    "    with open(filename, \"rb\") as file :\n",
    "        print(f'Uploading {filename} ... ', end='')\n",
    "        res = r.post(f\"http://localhost:8081/admin/datasets/{datasetId}/cqpp\", data=file, headers={\"content-type\":\"application/octet-stream\"})\n",
    "        print(process_respose(res))"
   ]
  },
  {
   "cell_type": "markdown",
   "id": "1444adaa",
   "metadata": {},
   "source": [
    "### Update Matching Stats\n",
    "\n",
    "This action collects statistics that are displayed in the frontend when hovering over concepts. "
   ]
  },
  {
   "cell_type": "code",
   "execution_count": null,
   "id": "4817ef42",
   "metadata": {},
   "outputs": [],
   "source": [
    "print(f'Updating matching stats ... ', end='')\n",
    "res = r.post(f\"http://localhost:8081/admin/datasets/{datasetId}/update-matching-stats\", headers={\"content-type\":\"application/json\"})\n",
    "print(process_respose(res))"
   ]
  },
  {
   "cell_type": "markdown",
   "id": "a13b609d",
   "metadata": {},
   "source": [
    "## Visit the Frontend\n",
    "\n",
    "Finally you can start the frontend (e.g. using the script `conquery/scripts/run_e2e_frontend.sh`) and access it under the url http://localhost:8000/?access_token=user.SUPERUSER@SUPERUSER as the super user. In the top right corner choose the *MIMIC-III Demo* dataset. You can then start combining nodes of the *ICD* concept in the query editor and submit your query."
   ]
  }
 ],
 "metadata": {
  "kernelspec": {
   "display_name": "Python 3 (ipykernel)",
   "language": "python",
   "name": "python3"
  },
  "language_info": {
   "codemirror_mode": {
    "name": "ipython",
    "version": 3
   },
   "file_extension": ".py",
   "mimetype": "text/x-python",
   "name": "python",
   "nbconvert_exporter": "python",
   "pygments_lexer": "ipython3",
   "version": "3.8.0"
  },
  "vscode": {
   "interpreter": {
    "hash": "570feb405e2e27c949193ac68f46852414290d515b0ba6e5d90d076ed2284471"
   }
  }
 },
 "nbformat": 4,
 "nbformat_minor": 5
}
